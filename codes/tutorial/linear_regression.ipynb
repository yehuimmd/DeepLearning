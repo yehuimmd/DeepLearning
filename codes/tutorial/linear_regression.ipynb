{
 "cells": [
  {
   "cell_type": "code",
   "execution_count": 1,
   "metadata": {
    "collapsed": true
   },
   "outputs": [],
   "source": [
    "% matplotlib inline\n",
    "# encoding:utf-8\n",
    "import numpy as np\n",
    "import tensorflow as tf\n",
    "import matplotlib.pyplot as plt"
   ]
  },
  {
   "cell_type": "markdown",
   "metadata": {},
   "source": [
    "### 按照函数sin构造数据，加上一定噪声，学习模型拟合函数"
   ]
  },
  {
   "cell_type": "code",
   "execution_count": 2,
   "metadata": {},
   "outputs": [
    {
     "name": "stderr",
     "output_type": "stream",
     "text": [
      "/usr/local/lib/python2.7/dist-packages/matplotlib/figure.py:403: UserWarning: matplotlib is currently using a non-GUI backend, so cannot show the figure\n",
      "  \"matplotlib is currently using a non-GUI backend, \"\n"
     ]
    },
    {
     "data": {
      "image/png": "[encoded data removed]",
      "text/plain": [
       "<matplotlib.figure.Figure at 0x7f51c474ca10>"
      ]
     },
     "metadata": {},
     "output_type": "display_data"
    }
   ],
   "source": [
    "plt.ion()\n",
    "n_observations = 100\n",
    "fig, ax = plt.subplots(1, 1)\n",
    "xs = np.linspace(-3, 3, n_observations)\n",
    "ys = np.sin(xs) + np.random.uniform(-0.5, 0.5, n_observations)\n",
    "ax.scatter(xs, ys)\n",
    "fig.show()\n",
    "plt.draw()"
   ]
  },
  {
   "cell_type": "markdown",
   "metadata": {},
   "source": [
    "### 设置使用GPU设备\n",
    "```\n",
    "import os\n",
    "os.environ[\"CUDA_VISIBLE_DEVICES\"] = \"0\"\n",
    "```"
   ]
  },
  {
   "cell_type": "code",
   "execution_count": 3,
   "metadata": {
    "collapsed": true
   },
   "outputs": [],
   "source": [
    "graph = tf.Graph() # 自定义Graph 可以不设置\n",
    "with graph.as_default():\n",
    "    # 定义模型输入和目标\n",
    "    input_X = tf.placeholder(tf.float32, name=\"input_X\")\n",
    "    input_Y = tf.placeholder(tf.float32, name=\"input_Y\")\n",
    "    # 定义权重变量\n",
    "    W = tf.Variable(tf.random_normal([1]), name='weight')\n",
    "    b = tf.Variable(tf.random_normal([1]), name='bias')\n",
    "    # 定义计算函数\n",
    "    Y_pred = tf.add(tf.multiply(input_X, W, name=\"mul\"), b, name=\"add\")\n",
    "    # 定义损失函数\n",
    "    cost = tf.reduce_sum(tf.pow(Y_pred - input_Y, 2)) / (100 - 1)\n",
    "    tf.summary.scalar('cost', cost)\n",
    "    # 使用优化方法，定义参数更新过程\n",
    "    learning_rate = 0.01\n",
    "    optimizer = tf.train.GradientDescentOptimizer(learning_rate).minimize(cost)\n",
    "    merged = tf.summary.merge_all() # 方便使用TensorBoard"
   ]
  },
  {
   "cell_type": "code",
   "execution_count": 4,
   "metadata": {},
   "outputs": [
    {
     "name": "stdout",
     "output_type": "stream",
     "text": [
      "2.25272\n",
      "2.02267\n",
      "1.81939\n",
      "1.63976\n",
      "1.48103\n",
      "1.34076\n",
      "1.21682\n",
      "1.10729\n",
      "1.0105\n",
      "0.924975\n",
      "0.849396\n",
      "0.782606\n",
      "0.723584\n",
      "0.671425\n",
      "0.62533\n",
      "0.584596\n",
      "0.548597\n",
      "0.516783\n",
      "0.488666\n",
      "0.463817\n",
      "0.441855\n",
      "0.422444\n",
      "0.405289\n",
      "0.390125\n",
      "0.376723\n",
      "0.364876\n",
      "0.354404\n",
      "0.345148\n",
      "0.336965\n",
      "0.329731\n",
      "0.323336\n",
      "0.317682\n",
      "0.312682\n",
      "0.308262\n",
      "0.304353\n",
      "0.300897\n",
      "0.29784\n",
      "0.295137\n",
      "0.292745\n",
      "0.29063\n",
      "0.288759\n",
      "0.287103\n",
      "0.285638\n",
      "0.284342\n",
      "0.283194\n",
      "0.282178\n",
      "0.281279\n",
      "0.280483\n",
      "0.279778\n",
      "0.279153\n"
     ]
    },
    {
     "data": {
      "text/plain": [
       "<matplotlib.figure.Figure at 0x7f51a149c790>"
      ]
     },
     "metadata": {},
     "output_type": "display_data"
    }
   ],
   "source": [
    "n_epochs = 50\n",
    "# 创建Session\n",
    "with tf.Session(graph=graph) as sess:\n",
    "    train_writer = tf.summary.FileWriter('linear/train', sess.graph)\n",
    "    sess.run(tf.global_variables_initializer()) # 初始化参数\n",
    "\n",
    "    prev_training_cost = 0.0\n",
    "    for epoch_i in range(n_epochs):\n",
    "        for (x, y) in zip(xs, ys):\n",
    "            sess.run(optimizer, feed_dict={input_X: x, input_Y: y})\n",
    "        summary, training_cost = sess.run([merged, cost], feed_dict={input_X: xs, input_Y: ys})\n",
    "        train_writer.add_summary(summary, epoch_i)\n",
    "        print(training_cost)\n",
    "        \n",
    "        if epoch_i % 20 == 0:\n",
    "            ax.plot(xs, Y_pred.eval(feed_dict={input_X: xs}, session=sess), 'k', alpha= epoch_i / n_epochs)\n",
    "            fig.show()\n",
    "            plt.draw()\n",
    "            \n",
    "        if np.abs(prev_training_cost - training_cost) < 0.000001:\n",
    "            break\n",
    "        prev_training_cost = training_cost\n",
    "#fig.show()\n",
    "#plt.draw()"
   ]
  },
  {
   "cell_type": "code",
   "execution_count": null,
   "metadata": {
    "collapsed": true
   },
   "outputs": [],
   "source": []
  }
 ],
 "metadata": {
  "kernelspec": {
   "display_name": "Python 2",
   "language": "python",
   "name": "python2"
  },
  "language_info": {
   "codemirror_mode": {
    "name": "ipython",
    "version": 2
   },
   "file_extension": ".py",
   "mimetype": "text/x-python",
   "name": "python",
   "nbconvert_exporter": "python",
   "pygments_lexer": "ipython2",
   "version": "2.7.12"
  }
 },
 "nbformat": 4,
 "nbformat_minor": 2
}
